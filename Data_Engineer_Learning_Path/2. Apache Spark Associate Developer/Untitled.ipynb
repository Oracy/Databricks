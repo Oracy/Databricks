{
 "cells": [
  {
   "cell_type": "markdown",
   "id": "c47de565",
   "metadata": {},
   "source": [
    "```python\n",
    "username = \"martoso\"\n",
    "dbutils.widgets.text(\"username\", username)\n",
    "spark.sql(f\"CREATE DATABASE IF NOT EXISTS dbacademy_{username}\")\n",
    "spark.sql(f\"USE dbacademy_{username}\")\n",
    "health_tracker = f\"/dbacademy/{username}/DLRS/healthtracker/\"\n",
    "\n",
    "spark.conf.set(\"spark.sql.shuffle.partitions\", 8)\n",
    "```"
   ]
  },
  {
   "cell_type": "code",
   "execution_count": null,
   "id": "a2f78b42",
   "metadata": {},
   "outputs": [],
   "source": []
  }
 ],
 "metadata": {
  "kernelspec": {
   "display_name": "Python 3 (ipykernel)",
   "language": "python",
   "name": "python3"
  },
  "language_info": {
   "codemirror_mode": {
    "name": "ipython",
    "version": 3
   },
   "file_extension": ".py",
   "mimetype": "text/x-python",
   "name": "python",
   "nbconvert_exporter": "python",
   "pygments_lexer": "ipython3",
   "version": "3.8.10"
  }
 },
 "nbformat": 4,
 "nbformat_minor": 5
}
